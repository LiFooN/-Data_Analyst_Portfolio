{
 "cells": [
  {
   "cell_type": "code",
   "execution_count": 1,
   "metadata": {},
   "outputs": [],
   "source": [
    "import pandas as pd\n",
    "import seaborn as sns\n",
    "import numpy as np\n",
    "import scipy.stats as stats\n",
    "from scipy.stats import norm\n",
    "from scipy.stats import ttest_ind\n",
    "from scipy.stats import chisquare\n",
    "\n",
    "from tqdm.auto import tqdm\n",
    "from scipy.stats import iqr\n",
    "import matplotlib.pyplot as plt\n",
    "\n",
    "plt.style.use('ggplot')\n",
    "%matplotlib inline\n",
    "\n",
    "import warnings\n",
    "warnings.filterwarnings(\"ignore\")"
   ]
  },
  {
   "cell_type": "code",
   "execution_count": 2,
   "metadata": {},
   "outputs": [],
   "source": [
    "sns.set(\n",
    "    font_scale =1,\n",
    "    style      =\"whitegrid\",\n",
    "    rc         ={'figure.figsize':(20,7)}\n",
    ")"
   ]
  },
  {
   "cell_type": "code",
   "execution_count": 3,
   "metadata": {},
   "outputs": [],
   "source": [
    "# зададим параметры отображения\n",
    "pd.set_option('display.max_colwidth', 0)\n",
    "pd.options.display.max_columns = None"
   ]
  },
  {
   "cell_type": "markdown",
   "metadata": {},
   "source": [
    "## Задание 1. A/B–тестирование"
   ]
  },
  {
   "cell_type": "markdown",
   "metadata": {},
   "source": [
    "В ходе тестирования одной гипотезы целевой группе была предложена новая механика оплаты услуг на сайте, у контрольной группы оставалась базовая механика. В качестве задания проанализирую итоги эксперимента и сделаю вывод, стоит ли запускать новую механику оплаты на всех пользователей."
   ]
  },
  {
   "cell_type": "markdown",
   "metadata": {},
   "source": [
    "###  Замечания\n",
    "\n",
    "В связи с тем, что таблица groups_add.csv была передана спустя два дня после получения основных данных, а о происхождении добавленных пользователей мы ничего не знаем, и о периоде проведения эксперимента тоже ничего не знаем, то будем считать, что эти данные собирались из разных источников, но в рамках проведения эксперимента. Поэтому включаем пользователей из таблицы groups_add.csv в АБ-тест."
   ]
  },
  {
   "cell_type": "markdown",
   "metadata": {},
   "source": [
    "## Недостающая информация\n",
    "- В задании упоминается \"в ходе тестирования одной гипотезы...\", но о самой гипотезе ничего не сказано.    Ничего неизвестно о периоде проведения эксперимента. Неизвестно в разрезе какого временного показателя (месяц, неделя, день) на наших руках данные.\n",
    "- Неизвестно на что опираются новая/старая механики оплаты услуг на сайте и какие целевые действия производит пользователь перед тем как перейти к оплате.\n",
    "- Неизвестно откуда появились пользователи из таблицы groups_add.csv. Участвовали ли они с самого запуска эксперимента или же были довалены откуда-то отдельно.\n",
    "- Неизвестно каким образом формировалась колонка rev в таблице checks.csv. Это суммы всех оплат каждого пользователя за n-ый период времени или это одна единственная оплата."
   ]
  },
  {
   "cell_type": "markdown",
   "metadata": {},
   "source": [
    "**Входные данные**"
   ]
  },
  {
   "cell_type": "markdown",
   "metadata": {},
   "source": [
    "- groups.csv - файл с информацией о принадлежности пользователя к контрольной или экспериментальной группе (А – контроль, B – целевая группа) \n",
    "\n",
    "- groups_add.csv - дополнительный файл с пользователями, который вам прислали спустя 2 дня после передачи данных.\n",
    "\n",
    "- active_studs.csv - файл с информацией о пользователях, которые зашли на платформу в дни проведения эксперимента. \n",
    "\n",
    "- checks.csv - файл с информацией об оплатах пользователей в дни проведения эксперимента. "
   ]
  },
  {
   "cell_type": "code",
   "execution_count": 4,
   "metadata": {},
   "outputs": [],
   "source": [
    "groups,group_add,active_studs,checks = (\n",
    "                                       pd.read_csv(\"Проект_2_groups.csv\",sep= \";\"),\n",
    "                                       pd.read_csv(\"Проект_2_group_add.csv\",sep= \",\"),\n",
    "                                       pd.read_csv(\"Проект_2_active_studs.csv\",sep= \";\"),\n",
    "                                       pd.read_csv(\"Проект_2_checks.csv\",sep= \";\")\n",
    "                                       )"
   ]
  },
  {
   "cell_type": "code",
   "execution_count": 5,
   "metadata": {},
   "outputs": [],
   "source": [
    "def info(df):\n",
    "    print(\"*\" * 10)\n",
    "    print(\"head:\")\n",
    "    print(df.head())\n",
    "    print(\"*\" * 10)\n",
    "    print(\"shape:\")\n",
    "    print(df.shape)\n",
    "    print(\"*\" * 10)\n",
    "    print(\"dtpyes:\")\n",
    "    print(df.dtypes)\n",
    "    print(\"*\" * 10)\n",
    "    print(\"count_null:\")\n",
    "    print(df.isna().sum())\n",
    "    print(\"*\" * 10)\n",
    "    print(\"count_duplicates:\")\n",
    "    print(df.duplicated().sum())\n",
    "    print(\"*\" * 10)"
   ]
  },
  {
   "cell_type": "code",
   "execution_count": 6,
   "metadata": {},
   "outputs": [
    {
     "name": "stdout",
     "output_type": "stream",
     "text": [
      "**********\n",
      "head:\n",
      "     id grp\n",
      "0  1489  B \n",
      "1  1627  A \n",
      "2  1768  B \n",
      "3  1783  B \n",
      "4  1794  A \n",
      "**********\n",
      "shape:\n",
      "(74484, 2)\n",
      "**********\n",
      "dtpyes:\n",
      "id     int64 \n",
      "grp    object\n",
      "dtype: object\n",
      "**********\n",
      "count_null:\n",
      "id     0\n",
      "grp    0\n",
      "dtype: int64\n",
      "**********\n",
      "count_duplicates:\n",
      "0\n",
      "**********\n"
     ]
    }
   ],
   "source": [
    "info(groups)"
   ]
  },
  {
   "cell_type": "code",
   "execution_count": 7,
   "metadata": {},
   "outputs": [
    {
     "name": "stdout",
     "output_type": "stream",
     "text": [
      "**********\n",
      "head:\n",
      "        id grp\n",
      "0  5694584  B \n",
      "1  5694830  B \n",
      "2  5695057  B \n",
      "3  5698872  B \n",
      "4  5699067  B \n",
      "**********\n",
      "shape:\n",
      "(92, 2)\n",
      "**********\n",
      "dtpyes:\n",
      "id     int64 \n",
      "grp    object\n",
      "dtype: object\n",
      "**********\n",
      "count_null:\n",
      "id     0\n",
      "grp    0\n",
      "dtype: int64\n",
      "**********\n",
      "count_duplicates:\n",
      "0\n",
      "**********\n"
     ]
    }
   ],
   "source": [
    "info(group_add)"
   ]
  },
  {
   "cell_type": "code",
   "execution_count": 8,
   "metadata": {},
   "outputs": [
    {
     "name": "stdout",
     "output_type": "stream",
     "text": [
      "**********\n",
      "head:\n",
      "   student_id\n",
      "0  581585    \n",
      "1  5723133   \n",
      "2  3276743   \n",
      "3  4238589   \n",
      "4  4475369   \n",
      "**********\n",
      "shape:\n",
      "(8341, 1)\n",
      "**********\n",
      "dtpyes:\n",
      "student_id    int64\n",
      "dtype: object\n",
      "**********\n",
      "count_null:\n",
      "student_id    0\n",
      "dtype: int64\n",
      "**********\n",
      "count_duplicates:\n",
      "0\n",
      "**********\n"
     ]
    }
   ],
   "source": [
    "info(active_studs)"
   ]
  },
  {
   "cell_type": "code",
   "execution_count": 9,
   "metadata": {},
   "outputs": [
    {
     "name": "stdout",
     "output_type": "stream",
     "text": [
      "**********\n",
      "head:\n",
      "   student_id    rev\n",
      "0  1627        990.0\n",
      "1  3185        690.0\n",
      "2  25973       690.0\n",
      "3  26280       690.0\n",
      "4  100300      990.0\n",
      "**********\n",
      "shape:\n",
      "(541, 2)\n",
      "**********\n",
      "dtpyes:\n",
      "student_id    int64  \n",
      "rev           float64\n",
      "dtype: object\n",
      "**********\n",
      "count_null:\n",
      "student_id    0\n",
      "rev           0\n",
      "dtype: int64\n",
      "**********\n",
      "count_duplicates:\n",
      "0\n",
      "**********\n"
     ]
    }
   ],
   "source": [
    "info(checks)"
   ]
  },
  {
   "cell_type": "markdown",
   "metadata": {},
   "source": [
    "**Разведочный анализ данных (exploratory data analysis, EDA)**"
   ]
  },
  {
   "cell_type": "code",
   "execution_count": 10,
   "metadata": {},
   "outputs": [],
   "source": [
    "groups.rename(columns={ groups.columns[0]: \"student_id\"}, inplace = True) \n",
    "group_add.rename(columns={ group_add.columns[0]: \"student_id\"}, inplace = True)\n",
    "full_groups = groups.append(group_add) # сформируем общий df для дальнейшего анализа"
   ]
  },
  {
   "cell_type": "code",
   "execution_count": 11,
   "metadata": {},
   "outputs": [
    {
     "data": {
      "text/html": [
       "<div>\n",
       "<style scoped>\n",
       "    .dataframe tbody tr th:only-of-type {\n",
       "        vertical-align: middle;\n",
       "    }\n",
       "\n",
       "    .dataframe tbody tr th {\n",
       "        vertical-align: top;\n",
       "    }\n",
       "\n",
       "    .dataframe thead th {\n",
       "        text-align: right;\n",
       "    }\n",
       "</style>\n",
       "<table border=\"1\" class=\"dataframe\">\n",
       "  <thead>\n",
       "    <tr style=\"text-align: right;\">\n",
       "      <th></th>\n",
       "      <th>student_id</th>\n",
       "      <th>grp</th>\n",
       "    </tr>\n",
       "  </thead>\n",
       "  <tbody>\n",
       "  </tbody>\n",
       "</table>\n",
       "</div>"
      ],
      "text/plain": [
       "Empty DataFrame\n",
       "Columns: [student_id, grp]\n",
       "Index: []"
      ]
     },
     "execution_count": 11,
     "metadata": {},
     "output_type": "execute_result"
    }
   ],
   "source": [
    "full_groups.loc[full_groups.duplicated()] # Проверяем на дубликаты"
   ]
  },
  {
   "cell_type": "code",
   "execution_count": 12,
   "metadata": {},
   "outputs": [
    {
     "data": {
      "text/plain": [
       "grp\n",
       "B    59883\n",
       "A    14693\n",
       "dtype: int64"
      ]
     },
     "execution_count": 12,
     "metadata": {},
     "output_type": "execute_result"
    }
   ],
   "source": [
    "full_groups.value_counts(\"grp\")"
   ]
  },
  {
   "cell_type": "code",
   "execution_count": 13,
   "metadata": {},
   "outputs": [
    {
     "data": {
      "image/png": "[encoded data removed]",
      "text/plain": [
       "<Figure size 1440x504 with 1 Axes>"
      ]
     },
     "metadata": {},
     "output_type": "display_data"
    }
   ],
   "source": [
    "# Визуализируем распределения пользователей в двух группах\n",
    "sns.countplot(data=full_groups,x=\"grp\").set(title=' кол-во всех клиентов ');"
   ]
  },
  {
   "cell_type": "code",
   "execution_count": 14,
   "metadata": {},
   "outputs": [
    {
     "data": {
      "text/plain": [
       "11.18"
      ]
     },
     "execution_count": 14,
     "metadata": {},
     "output_type": "execute_result"
    }
   ],
   "source": [
    "round(active_studs.shape[0] / full_groups.shape[0] * 100,2) #  % пользователей, посетивших сайт во время эксперемента."
   ]
  },
  {
   "cell_type": "code",
   "execution_count": 15,
   "metadata": {},
   "outputs": [
    {
     "data": {
      "text/plain": [
       "149"
      ]
     },
     "execution_count": 15,
     "metadata": {},
     "output_type": "execute_result"
    }
   ],
   "source": [
    "checks.shape[0] - checks.merge(active_studs, on = \"student_id\").shape[0] "
   ]
  },
  {
   "cell_type": "markdown",
   "metadata": {},
   "source": [
    "149 пользователей, оплатившие услугу, отсутсвуют в таблице **active_studs**. Вероятно всего у сервиса есть некая система автоплатежа либо это и есть новая механика оплаты которую мы проверяем (а может быть еще что у пользователей вообще есть другая возможность пользоваться сервисом).В дальнейшем будем всех оплативших пользователей учитывать в эксперименте."
   ]
  },
  {
   "cell_type": "markdown",
   "metadata": {},
   "source": [
    "Посмотрим на распределение чеков между всеми платящами пользователями в дни эксперемента"
   ]
  },
  {
   "cell_type": "code",
   "execution_count": 16,
   "metadata": {
    "scrolled": true
   },
   "outputs": [
    {
     "data": {
      "text/html": [
       "<div>\n",
       "<style scoped>\n",
       "    .dataframe tbody tr th:only-of-type {\n",
       "        vertical-align: middle;\n",
       "    }\n",
       "\n",
       "    .dataframe tbody tr th {\n",
       "        vertical-align: top;\n",
       "    }\n",
       "\n",
       "    .dataframe thead th {\n",
       "        text-align: right;\n",
       "    }\n",
       "</style>\n",
       "<table border=\"1\" class=\"dataframe\">\n",
       "  <thead>\n",
       "    <tr style=\"text-align: right;\">\n",
       "      <th></th>\n",
       "      <th>revenue</th>\n",
       "      <th>count</th>\n",
       "    </tr>\n",
       "  </thead>\n",
       "  <tbody>\n",
       "    <tr>\n",
       "      <th>0</th>\n",
       "      <td>1900.0000</td>\n",
       "      <td>97</td>\n",
       "    </tr>\n",
       "    <tr>\n",
       "      <th>1</th>\n",
       "      <td>290.0000</td>\n",
       "      <td>94</td>\n",
       "    </tr>\n",
       "    <tr>\n",
       "      <th>2</th>\n",
       "      <td>690.0000</td>\n",
       "      <td>78</td>\n",
       "    </tr>\n",
       "    <tr>\n",
       "      <th>3</th>\n",
       "      <td>199.0000</td>\n",
       "      <td>46</td>\n",
       "    </tr>\n",
       "    <tr>\n",
       "      <th>4</th>\n",
       "      <td>990.0000</td>\n",
       "      <td>41</td>\n",
       "    </tr>\n",
       "    <tr>\n",
       "      <th>5</th>\n",
       "      <td>1900.0001</td>\n",
       "      <td>36</td>\n",
       "    </tr>\n",
       "    <tr>\n",
       "      <th>6</th>\n",
       "      <td>840.0000</td>\n",
       "      <td>27</td>\n",
       "    </tr>\n",
       "    <tr>\n",
       "      <th>7</th>\n",
       "      <td>1140.0000</td>\n",
       "      <td>25</td>\n",
       "    </tr>\n",
       "    <tr>\n",
       "      <th>8</th>\n",
       "      <td>580.0000</td>\n",
       "      <td>15</td>\n",
       "    </tr>\n",
       "    <tr>\n",
       "      <th>9</th>\n",
       "      <td>590.0000</td>\n",
       "      <td>11</td>\n",
       "    </tr>\n",
       "    <tr>\n",
       "      <th>10</th>\n",
       "      <td>398.0000</td>\n",
       "      <td>9</td>\n",
       "    </tr>\n",
       "    <tr>\n",
       "      <th>11</th>\n",
       "      <td>1530.0000</td>\n",
       "      <td>8</td>\n",
       "    </tr>\n",
       "    <tr>\n",
       "      <th>12</th>\n",
       "      <td>870.0000</td>\n",
       "      <td>6</td>\n",
       "    </tr>\n",
       "    <tr>\n",
       "      <th>13</th>\n",
       "      <td>3660.0000</td>\n",
       "      <td>5</td>\n",
       "    </tr>\n",
       "    <tr>\n",
       "      <th>14</th>\n",
       "      <td>2910.0000</td>\n",
       "      <td>4</td>\n",
       "    </tr>\n",
       "    <tr>\n",
       "      <th>15</th>\n",
       "      <td>2890.0000</td>\n",
       "      <td>4</td>\n",
       "    </tr>\n",
       "    <tr>\n",
       "      <th>16</th>\n",
       "      <td>1980.0000</td>\n",
       "      <td>4</td>\n",
       "    </tr>\n",
       "    <tr>\n",
       "      <th>17</th>\n",
       "      <td>2099.0000</td>\n",
       "      <td>3</td>\n",
       "    </tr>\n",
       "    <tr>\n",
       "      <th>18</th>\n",
       "      <td>489.0000</td>\n",
       "      <td>3</td>\n",
       "    </tr>\n",
       "    <tr>\n",
       "      <th>19</th>\n",
       "      <td>1160.0000</td>\n",
       "      <td>3</td>\n",
       "    </tr>\n",
       "    <tr>\n",
       "      <th>20</th>\n",
       "      <td>1180.0000</td>\n",
       "      <td>2</td>\n",
       "    </tr>\n",
       "    <tr>\n",
       "      <th>21</th>\n",
       "      <td>2220.0000</td>\n",
       "      <td>2</td>\n",
       "    </tr>\n",
       "    <tr>\n",
       "      <th>22</th>\n",
       "      <td>2820.0000</td>\n",
       "      <td>2</td>\n",
       "    </tr>\n",
       "    <tr>\n",
       "      <th>23</th>\n",
       "      <td>597.0000</td>\n",
       "      <td>1</td>\n",
       "    </tr>\n",
       "    <tr>\n",
       "      <th>24</th>\n",
       "      <td>1388.0000</td>\n",
       "      <td>1</td>\n",
       "    </tr>\n",
       "    <tr>\n",
       "      <th>25</th>\n",
       "      <td>3260.0000</td>\n",
       "      <td>1</td>\n",
       "    </tr>\n",
       "    <tr>\n",
       "      <th>26</th>\n",
       "      <td>880.0000</td>\n",
       "      <td>1</td>\n",
       "    </tr>\n",
       "    <tr>\n",
       "      <th>27</th>\n",
       "      <td>3040.0000</td>\n",
       "      <td>1</td>\n",
       "    </tr>\n",
       "    <tr>\n",
       "      <th>28</th>\n",
       "      <td>796.0000</td>\n",
       "      <td>1</td>\n",
       "    </tr>\n",
       "    <tr>\n",
       "      <th>29</th>\n",
       "      <td>1968.0000</td>\n",
       "      <td>1</td>\n",
       "    </tr>\n",
       "    <tr>\n",
       "      <th>30</th>\n",
       "      <td>1339.0000</td>\n",
       "      <td>1</td>\n",
       "    </tr>\n",
       "    <tr>\n",
       "      <th>31</th>\n",
       "      <td>4650.0000</td>\n",
       "      <td>1</td>\n",
       "    </tr>\n",
       "    <tr>\n",
       "      <th>32</th>\n",
       "      <td>2900.0000</td>\n",
       "      <td>1</td>\n",
       "    </tr>\n",
       "    <tr>\n",
       "      <th>33</th>\n",
       "      <td>630.0000</td>\n",
       "      <td>1</td>\n",
       "    </tr>\n",
       "    <tr>\n",
       "      <th>34</th>\n",
       "      <td>1830.0000</td>\n",
       "      <td>1</td>\n",
       "    </tr>\n",
       "    <tr>\n",
       "      <th>35</th>\n",
       "      <td>1039.0000</td>\n",
       "      <td>1</td>\n",
       "    </tr>\n",
       "    <tr>\n",
       "      <th>36</th>\n",
       "      <td>1050.0000</td>\n",
       "      <td>1</td>\n",
       "    </tr>\n",
       "    <tr>\n",
       "      <th>37</th>\n",
       "      <td>1729.0000</td>\n",
       "      <td>1</td>\n",
       "    </tr>\n",
       "    <tr>\n",
       "      <th>38</th>\n",
       "      <td>2190.0000</td>\n",
       "      <td>1</td>\n",
       "    </tr>\n",
       "  </tbody>\n",
       "</table>\n",
       "</div>"
      ],
      "text/plain": [
       "      revenue  count\n",
       "0   1900.0000  97   \n",
       "1   290.0000   94   \n",
       "2   690.0000   78   \n",
       "3   199.0000   46   \n",
       "4   990.0000   41   \n",
       "5   1900.0001  36   \n",
       "6   840.0000   27   \n",
       "7   1140.0000  25   \n",
       "8   580.0000   15   \n",
       "9   590.0000   11   \n",
       "10  398.0000   9    \n",
       "11  1530.0000  8    \n",
       "12  870.0000   6    \n",
       "13  3660.0000  5    \n",
       "14  2910.0000  4    \n",
       "15  2890.0000  4    \n",
       "16  1980.0000  4    \n",
       "17  2099.0000  3    \n",
       "18  489.0000   3    \n",
       "19  1160.0000  3    \n",
       "20  1180.0000  2    \n",
       "21  2220.0000  2    \n",
       "22  2820.0000  2    \n",
       "23  597.0000   1    \n",
       "24  1388.0000  1    \n",
       "25  3260.0000  1    \n",
       "26  880.0000   1    \n",
       "27  3040.0000  1    \n",
       "28  796.0000   1    \n",
       "29  1968.0000  1    \n",
       "30  1339.0000  1    \n",
       "31  4650.0000  1    \n",
       "32  2900.0000  1    \n",
       "33  630.0000   1    \n",
       "34  1830.0000  1    \n",
       "35  1039.0000  1    \n",
       "36  1050.0000  1    \n",
       "37  1729.0000  1    \n",
       "38  2190.0000  1    "
      ]
     },
     "execution_count": 16,
     "metadata": {},
     "output_type": "execute_result"
    }
   ],
   "source": [
    "checks.rename(columns={ checks.columns[1]: \"revenue\"}, inplace = True) \n",
    "checks.revenue.value_counts().reset_index().rename(columns={ \"index\": \"revenue\",checks.columns[1]: \"count\"}) "
   ]
  },
  {
   "cell_type": "code",
   "execution_count": 17,
   "metadata": {},
   "outputs": [
    {
     "data": {
      "text/html": [
       "<div>\n",
       "<style scoped>\n",
       "    .dataframe tbody tr th:only-of-type {\n",
       "        vertical-align: middle;\n",
       "    }\n",
       "\n",
       "    .dataframe tbody tr th {\n",
       "        vertical-align: top;\n",
       "    }\n",
       "\n",
       "    .dataframe thead th {\n",
       "        text-align: right;\n",
       "    }\n",
       "</style>\n",
       "<table border=\"1\" class=\"dataframe\">\n",
       "  <thead>\n",
       "    <tr style=\"text-align: right;\">\n",
       "      <th></th>\n",
       "      <th>student_id</th>\n",
       "      <th>revenue</th>\n",
       "    </tr>\n",
       "  </thead>\n",
       "  <tbody>\n",
       "    <tr>\n",
       "      <th>0</th>\n",
       "      <td>1627</td>\n",
       "      <td>990.0</td>\n",
       "    </tr>\n",
       "    <tr>\n",
       "      <th>1</th>\n",
       "      <td>3185</td>\n",
       "      <td>690.0</td>\n",
       "    </tr>\n",
       "    <tr>\n",
       "      <th>2</th>\n",
       "      <td>25973</td>\n",
       "      <td>690.0</td>\n",
       "    </tr>\n",
       "    <tr>\n",
       "      <th>3</th>\n",
       "      <td>26280</td>\n",
       "      <td>690.0</td>\n",
       "    </tr>\n",
       "    <tr>\n",
       "      <th>4</th>\n",
       "      <td>100300</td>\n",
       "      <td>990.0</td>\n",
       "    </tr>\n",
       "    <tr>\n",
       "      <th>...</th>\n",
       "      <td>...</td>\n",
       "      <td>...</td>\n",
       "    </tr>\n",
       "    <tr>\n",
       "      <th>536</th>\n",
       "      <td>5645737</td>\n",
       "      <td>1900.0</td>\n",
       "    </tr>\n",
       "    <tr>\n",
       "      <th>537</th>\n",
       "      <td>5651566</td>\n",
       "      <td>1900.0</td>\n",
       "    </tr>\n",
       "    <tr>\n",
       "      <th>538</th>\n",
       "      <td>5662322</td>\n",
       "      <td>1900.0</td>\n",
       "    </tr>\n",
       "    <tr>\n",
       "      <th>539</th>\n",
       "      <td>5681918</td>\n",
       "      <td>1900.0</td>\n",
       "    </tr>\n",
       "    <tr>\n",
       "      <th>540</th>\n",
       "      <td>5740903</td>\n",
       "      <td>1900.0</td>\n",
       "    </tr>\n",
       "  </tbody>\n",
       "</table>\n",
       "<p>541 rows × 2 columns</p>\n",
       "</div>"
      ],
      "text/plain": [
       "     student_id  revenue\n",
       "0    1627        990.0  \n",
       "1    3185        690.0  \n",
       "2    25973       690.0  \n",
       "3    26280       690.0  \n",
       "4    100300      990.0  \n",
       "..      ...        ...  \n",
       "536  5645737     1900.0 \n",
       "537  5651566     1900.0 \n",
       "538  5662322     1900.0 \n",
       "539  5681918     1900.0 \n",
       "540  5740903     1900.0 \n",
       "\n",
       "[541 rows x 2 columns]"
      ]
     },
     "execution_count": 17,
     "metadata": {},
     "output_type": "execute_result"
    }
   ],
   "source": [
    "checks"
   ]
  },
  {
   "cell_type": "code",
   "execution_count": 18,
   "metadata": {},
   "outputs": [
    {
     "data": {
      "text/plain": [
       "count    541.000000 \n",
       "mean     1059.752317\n",
       "std      762.712359 \n",
       "min      199.000000 \n",
       "25%      290.000000 \n",
       "50%      840.000000 \n",
       "75%      1900.000000\n",
       "max      4650.000000\n",
       "Name: revenue, dtype: float64"
      ]
     },
     "execution_count": 18,
     "metadata": {},
     "output_type": "execute_result"
    }
   ],
   "source": [
    "checks['revenue'].describe()"
   ]
  },
  {
   "cell_type": "code",
   "execution_count": 19,
   "metadata": {},
   "outputs": [],
   "source": [
    "checks[\"payed\"] = 1 # Создаем столбец -payed, который принимает значение 1 , если пользователь совершил покупку, чтобы в дальнейшем было проще обращаться к этой группе покупателей."
   ]
  },
  {
   "cell_type": "code",
   "execution_count": 20,
   "metadata": {},
   "outputs": [],
   "source": [
    "active_studs2 = checks.merge(active_studs, on = \"student_id\",how = \"outer\") # К таблице с чеками добавляем юзеров, которые были на платформе в день эксперимента."
   ]
  },
  {
   "cell_type": "code",
   "execution_count": 21,
   "metadata": {},
   "outputs": [
    {
     "data": {
      "text/plain": [
       "0"
      ]
     },
     "execution_count": 21,
     "metadata": {},
     "output_type": "execute_result"
    }
   ],
   "source": [
    "active_studs2.duplicated().sum()"
   ]
  },
  {
   "cell_type": "code",
   "execution_count": 22,
   "metadata": {},
   "outputs": [
    {
     "data": {
      "text/html": [
       "<div>\n",
       "<style scoped>\n",
       "    .dataframe tbody tr th:only-of-type {\n",
       "        vertical-align: middle;\n",
       "    }\n",
       "\n",
       "    .dataframe tbody tr th {\n",
       "        vertical-align: top;\n",
       "    }\n",
       "\n",
       "    .dataframe thead th {\n",
       "        text-align: right;\n",
       "    }\n",
       "</style>\n",
       "<table border=\"1\" class=\"dataframe\">\n",
       "  <thead>\n",
       "    <tr style=\"text-align: right;\">\n",
       "      <th></th>\n",
       "      <th>student_id</th>\n",
       "      <th>revenue</th>\n",
       "      <th>payed</th>\n",
       "      <th>grp</th>\n",
       "    </tr>\n",
       "  </thead>\n",
       "  <tbody>\n",
       "    <tr>\n",
       "      <th>0</th>\n",
       "      <td>1627</td>\n",
       "      <td>990.0</td>\n",
       "      <td>1.0</td>\n",
       "      <td>A</td>\n",
       "    </tr>\n",
       "    <tr>\n",
       "      <th>1</th>\n",
       "      <td>3185</td>\n",
       "      <td>690.0</td>\n",
       "      <td>1.0</td>\n",
       "      <td>B</td>\n",
       "    </tr>\n",
       "    <tr>\n",
       "      <th>2</th>\n",
       "      <td>25973</td>\n",
       "      <td>690.0</td>\n",
       "      <td>1.0</td>\n",
       "      <td>B</td>\n",
       "    </tr>\n",
       "    <tr>\n",
       "      <th>3</th>\n",
       "      <td>26280</td>\n",
       "      <td>690.0</td>\n",
       "      <td>1.0</td>\n",
       "      <td>B</td>\n",
       "    </tr>\n",
       "    <tr>\n",
       "      <th>4</th>\n",
       "      <td>100300</td>\n",
       "      <td>990.0</td>\n",
       "      <td>1.0</td>\n",
       "      <td>B</td>\n",
       "    </tr>\n",
       "    <tr>\n",
       "      <th>...</th>\n",
       "      <td>...</td>\n",
       "      <td>...</td>\n",
       "      <td>...</td>\n",
       "      <td>...</td>\n",
       "    </tr>\n",
       "    <tr>\n",
       "      <th>8485</th>\n",
       "      <td>264371</td>\n",
       "      <td>NaN</td>\n",
       "      <td>NaN</td>\n",
       "      <td>B</td>\n",
       "    </tr>\n",
       "    <tr>\n",
       "      <th>8486</th>\n",
       "      <td>1794344</td>\n",
       "      <td>NaN</td>\n",
       "      <td>NaN</td>\n",
       "      <td>B</td>\n",
       "    </tr>\n",
       "    <tr>\n",
       "      <th>8487</th>\n",
       "      <td>296883</td>\n",
       "      <td>NaN</td>\n",
       "      <td>NaN</td>\n",
       "      <td>B</td>\n",
       "    </tr>\n",
       "    <tr>\n",
       "      <th>8488</th>\n",
       "      <td>3598448</td>\n",
       "      <td>NaN</td>\n",
       "      <td>NaN</td>\n",
       "      <td>B</td>\n",
       "    </tr>\n",
       "    <tr>\n",
       "      <th>8489</th>\n",
       "      <td>205705</td>\n",
       "      <td>NaN</td>\n",
       "      <td>NaN</td>\n",
       "      <td>B</td>\n",
       "    </tr>\n",
       "  </tbody>\n",
       "</table>\n",
       "<p>8490 rows × 4 columns</p>\n",
       "</div>"
      ],
      "text/plain": [
       "      student_id  revenue  payed grp\n",
       "0     1627        990.0    1.0    A \n",
       "1     3185        690.0    1.0    B \n",
       "2     25973       690.0    1.0    B \n",
       "3     26280       690.0    1.0    B \n",
       "4     100300      990.0    1.0    B \n",
       "...      ...        ...    ...   .. \n",
       "8485  264371     NaN      NaN     B \n",
       "8486  1794344    NaN      NaN     B \n",
       "8487  296883     NaN      NaN     B \n",
       "8488  3598448    NaN      NaN     B \n",
       "8489  205705     NaN      NaN     B \n",
       "\n",
       "[8490 rows x 4 columns]"
      ]
     },
     "execution_count": 22,
     "metadata": {},
     "output_type": "execute_result"
    }
   ],
   "source": [
    "full_groups = active_studs2.merge(full_groups, on = \"student_id\",how = \"left\") \n",
    "full_groups # получаем сформированный df для анализа"
   ]
  },
  {
   "cell_type": "code",
   "execution_count": 23,
   "metadata": {},
   "outputs": [
    {
     "data": {
      "text/plain": [
       "92096.0"
      ]
     },
     "execution_count": 23,
     "metadata": {},
     "output_type": "execute_result"
    }
   ],
   "source": [
    "full_groups.query(\"grp == 'A'\").revenue.sum()"
   ]
  },
  {
   "cell_type": "code",
   "execution_count": 24,
   "metadata": {},
   "outputs": [
    {
     "data": {
      "text/plain": [
       "0.25    290.0\n",
       "0.50    690.0\n",
       "0.75    990.0\n",
       "Name: revenue, dtype: float64"
      ]
     },
     "execution_count": 24,
     "metadata": {},
     "output_type": "execute_result"
    }
   ],
   "source": [
    "full_groups.query(\"grp == 'A' & payed > 0\").revenue.quantile(q=[0.25,0.5,0.75])"
   ]
  },
  {
   "cell_type": "code",
   "execution_count": 25,
   "metadata": {},
   "outputs": [
    {
     "data": {
      "text/plain": [
       "481230.0036"
      ]
     },
     "execution_count": 25,
     "metadata": {},
     "output_type": "execute_result"
    }
   ],
   "source": [
    "full_groups.query(\"grp == 'B'\").revenue.sum()"
   ]
  },
  {
   "cell_type": "code",
   "execution_count": 26,
   "metadata": {},
   "outputs": [
    {
     "data": {
      "text/plain": [
       "0.25    420.75 \n",
       "0.50    935.00 \n",
       "0.75    1900.00\n",
       "Name: revenue, dtype: float64"
      ]
     },
     "execution_count": 26,
     "metadata": {},
     "output_type": "execute_result"
    }
   ],
   "source": [
    "full_groups.query(\"grp == 'B' & payed > 0\").revenue.quantile(q=[0.25,0.5,0.75])"
   ]
  },
  {
   "cell_type": "code",
   "execution_count": 27,
   "metadata": {},
   "outputs": [
    {
     "data": {
      "text/plain": [
       "23"
      ]
     },
     "execution_count": 27,
     "metadata": {},
     "output_type": "execute_result"
    }
   ],
   "source": [
    "full_groups.query(\"grp == 'A' & payed > 0\").revenue.nunique()"
   ]
  },
  {
   "cell_type": "code",
   "execution_count": 28,
   "metadata": {},
   "outputs": [
    {
     "data": {
      "text/plain": [
       "35"
      ]
     },
     "execution_count": 28,
     "metadata": {},
     "output_type": "execute_result"
    }
   ],
   "source": [
    "full_groups.query(\"grp == 'B' & payed > 0\").revenue.nunique()"
   ]
  },
  {
   "cell_type": "code",
   "execution_count": 29,
   "metadata": {},
   "outputs": [
    {
     "data": {
      "text/plain": [
       "290.0     31\n",
       "690.0     19\n",
       "199.0     7 \n",
       "990.0     6 \n",
       "580.0     6 \n",
       "1140.0    5 \n",
       "590.0     5 \n",
       "3660.0    3 \n",
       "1530.0    3 \n",
       "840.0     3 \n",
       "398.0     2 \n",
       "1160.0    2 \n",
       "489.0     2 \n",
       "1980.0    2 \n",
       "2820.0    2 \n",
       "2910.0    2 \n",
       "2890.0    1 \n",
       "2900.0    1 \n",
       "2220.0    1 \n",
       "1180.0    1 \n",
       "870.0     1 \n",
       "1830.0    1 \n",
       "1039.0    1 \n",
       "Name: revenue, dtype: int64"
      ]
     },
     "execution_count": 29,
     "metadata": {},
     "output_type": "execute_result"
    }
   ],
   "source": [
    "full_groups.query(\"grp == 'A' & payed > 0\").revenue.value_counts()"
   ]
  },
  {
   "cell_type": "code",
   "execution_count": 30,
   "metadata": {},
   "outputs": [
    {
     "data": {
      "text/plain": [
       "1900.0000    97\n",
       "290.0000     63\n",
       "690.0000     59\n",
       "199.0000     39\n",
       "1900.0001    36\n",
       "990.0000     35\n",
       "840.0000     24\n",
       "1140.0000    20\n",
       "580.0000     9 \n",
       "398.0000     7 \n",
       "590.0000     6 \n",
       "870.0000     5 \n",
       "1530.0000    5 \n",
       "2890.0000    3 \n",
       "2099.0000    3 \n",
       "1980.0000    2 \n",
       "3660.0000    2 \n",
       "2910.0000    2 \n",
       "796.0000     1 \n",
       "630.0000     1 \n",
       "1180.0000    1 \n",
       "880.0000     1 \n",
       "3040.0000    1 \n",
       "2190.0000    1 \n",
       "1968.0000    1 \n",
       "1160.0000    1 \n",
       "1729.0000    1 \n",
       "2220.0000    1 \n",
       "4650.0000    1 \n",
       "1339.0000    1 \n",
       "1388.0000    1 \n",
       "489.0000     1 \n",
       "3260.0000    1 \n",
       "1050.0000    1 \n",
       "597.0000     1 \n",
       "Name: revenue, dtype: int64"
      ]
     },
     "execution_count": 30,
     "metadata": {},
     "output_type": "execute_result"
    }
   ],
   "source": [
    "full_groups.query(\"grp == 'B' & payed > 0\").revenue.value_counts()"
   ]
  },
  {
   "cell_type": "markdown",
   "metadata": {},
   "source": [
    "В двух группах замечено большое количество одинаковых оплат, но при этом в эксперементальной группе у пользователей         отмечено гораздо большая вариативность размера оплат. Возможно связано это с новой механикой оплаты где у пользователей мог появиться некий нижний порог оплаты услуги и/или более оптимальные(гибкие) варианты покупки, при которых можно было бы приобрести только часть услуги. Также непонятно, откуда такой дисболанс группы чеков в эксперементальной группе. Тут мы тоже остаемся без ответа, хорошо бы переговорить с нашим продуктовым менеджером и командой маркетинга о происхождении таких оплат. Также хорошо бы заодно спросить, почему у нас в выборке есть практически два одинаковых счета (**'1900.0000'** & **'1900.0001'**) с высокой частотой. Мог быть это как раз тот нижний порог для покупку конретной услуги или получение скидки?       \n",
    "\n",
    "Не понятно..."
   ]
  },
  {
   "cell_type": "code",
   "execution_count": 31,
   "metadata": {},
   "outputs": [
    {
     "data": {
      "image/png": "[encoded data removed]",
      "text/plain": [
       "<Figure size 1440x504 with 1 Axes>"
      ]
     },
     "metadata": {},
     "output_type": "display_data"
    }
   ],
   "source": [
    "sns.histplot(data=full_groups.query(\"payed == 1\")[['revenue', 'grp']], x ='revenue', hue ='grp');"
   ]
  },
  {
   "cell_type": "code",
   "execution_count": 32,
   "metadata": {
    "scrolled": true
   },
   "outputs": [
    {
     "data": {
      "image/png": "[encoded data removed]",
      "text/plain": [
       "<Figure size 1152x360 with 1 Axes>"
      ]
     },
     "metadata": {},
     "output_type": "display_data"
    }
   ],
   "source": [
    "sns.set(rc={'figure.figsize':(16,5)})\n",
    "sns.boxplot(data=full_groups, x=full_groups.query(\"payed == 1\").revenue, y=full_groups.grp)\\\n",
    "            .set(title='Распределение трат пользователей по группам');"
   ]
  },
  {
   "cell_type": "code",
   "execution_count": 33,
   "metadata": {},
   "outputs": [
    {
     "data": {
      "text/plain": [
       "NormaltestResult(statistic=33.19587456725772, pvalue=6.18881394639434e-08)"
      ]
     },
     "execution_count": 33,
     "metadata": {},
     "output_type": "execute_result"
    }
   ],
   "source": [
    "# можно применить тест Шапиро-Уилка, но он покажет тот же результат\n",
    "stats.normaltest(full_groups.query(\"grp == 'B' & payed == 1\")[\"revenue\"])  "
   ]
  },
  {
   "cell_type": "code",
   "execution_count": 34,
   "metadata": {},
   "outputs": [
    {
     "data": {
      "text/plain": [
       "NormaltestResult(statistic=52.21845240353401, pvalue=4.580439316510776e-12)"
      ]
     },
     "execution_count": 34,
     "metadata": {},
     "output_type": "execute_result"
    }
   ],
   "source": [
    "stats.normaltest(full_groups.query(\"grp == 'A' & payed == 1\")[\"revenue\"])"
   ]
  },
  {
   "cell_type": "markdown",
   "metadata": {},
   "source": [
    "Распределение каждой из групп являетеся ненормальным,  также оба имеют большие выбросы, что в дальнейшем может повлиять на точность теста"
   ]
  },
  {
   "cell_type": "markdown",
   "metadata": {},
   "source": [
    " "
   ]
  },
  {
   "cell_type": "markdown",
   "metadata": {},
   "source": [
    "По имеющимся данным просчитаем следующие метрики:\n",
    "\n",
    "- **CR** Конверсия пользователя в покупку % \n",
    "\n",
    "- **ARPU** Средний платеж на одного пользователя\n",
    "\n",
    "- **ARPPU** Средний платеж от одного платящего пользователя \n",
    "\n",
    "- **Mean_revenue** Средний доход от платящих пользователей "
   ]
  },
  {
   "cell_type": "code",
   "execution_count": 35,
   "metadata": {},
   "outputs": [
    {
     "data": {
      "text/html": [
       "<div>\n",
       "<style scoped>\n",
       "    .dataframe tbody tr th:only-of-type {\n",
       "        vertical-align: middle;\n",
       "    }\n",
       "\n",
       "    .dataframe tbody tr th {\n",
       "        vertical-align: top;\n",
       "    }\n",
       "\n",
       "    .dataframe thead th {\n",
       "        text-align: right;\n",
       "    }\n",
       "</style>\n",
       "<table border=\"1\" class=\"dataframe\">\n",
       "  <thead>\n",
       "    <tr style=\"text-align: right;\">\n",
       "      <th></th>\n",
       "      <th>payed_users</th>\n",
       "      <th>active_users</th>\n",
       "      <th>CR</th>\n",
       "      <th>ARPPU</th>\n",
       "      <th>ARPU</th>\n",
       "      <th>Mean_revenue</th>\n",
       "    </tr>\n",
       "  </thead>\n",
       "  <tbody>\n",
       "    <tr>\n",
       "      <th>A</th>\n",
       "      <td>107</td>\n",
       "      <td>1567</td>\n",
       "      <td>6.83</td>\n",
       "      <td>860.71</td>\n",
       "      <td>58.77</td>\n",
       "      <td>860.71</td>\n",
       "    </tr>\n",
       "    <tr>\n",
       "      <th>B</th>\n",
       "      <td>434</td>\n",
       "      <td>6923</td>\n",
       "      <td>6.27</td>\n",
       "      <td>1108.82</td>\n",
       "      <td>69.51</td>\n",
       "      <td>1108.82</td>\n",
       "    </tr>\n",
       "  </tbody>\n",
       "</table>\n",
       "</div>"
      ],
      "text/plain": [
       "   payed_users  active_users    CR    ARPPU   ARPU  Mean_revenue\n",
       "A  107          1567          6.83  860.71   58.77  860.71      \n",
       "B  434          6923          6.27  1108.82  69.51  1108.82     "
      ]
     },
     "execution_count": 35,
     "metadata": {},
     "output_type": "execute_result"
    }
   ],
   "source": [
    "Metrics = pd.DataFrame()\n",
    "Metrics[\"payed_users\"] = full_groups.query(\"payed == 1\").groupby(\"grp\")\\\n",
    "                    .student_id.count()\n",
    "Metrics[\"active_users\"] = full_groups.groupby(\"grp\")\\\n",
    "                    .student_id.count()\n",
    "Metrics[\"CR\"] = round(Metrics[\"payed_users\"] / Metrics[\"active_users\"] * 100,2)\n",
    "Metrics[\"ARPPU\"] = round(full_groups.query(\"payed == 1\").groupby(\"grp\")\\\n",
    "                    .revenue.mean(),2)\n",
    "Metrics[\"ARPU\"] = round(full_groups.groupby(\"grp\")\\\n",
    "                    .revenue.sum() / Metrics[\"active_users\"],2)\n",
    "Metrics[\"Mean_revenue\"] = round(full_groups.query(\"payed == 1\").groupby(\"grp\").revenue.mean(),2)\n",
    "Metrics"
   ]
  },
  {
   "cell_type": "code",
   "execution_count": 36,
   "metadata": {},
   "outputs": [
    {
     "data": {
      "text/html": [
       "<div>\n",
       "<style scoped>\n",
       "    .dataframe tbody tr th:only-of-type {\n",
       "        vertical-align: middle;\n",
       "    }\n",
       "\n",
       "    .dataframe tbody tr th {\n",
       "        vertical-align: top;\n",
       "    }\n",
       "\n",
       "    .dataframe thead th {\n",
       "        text-align: right;\n",
       "    }\n",
       "</style>\n",
       "<table border=\"1\" class=\"dataframe\">\n",
       "  <thead>\n",
       "    <tr style=\"text-align: right;\">\n",
       "      <th></th>\n",
       "      <th>student_id</th>\n",
       "      <th>revenue</th>\n",
       "      <th>payed</th>\n",
       "      <th>grp</th>\n",
       "    </tr>\n",
       "  </thead>\n",
       "  <tbody>\n",
       "    <tr>\n",
       "      <th>0</th>\n",
       "      <td>1627</td>\n",
       "      <td>990.0</td>\n",
       "      <td>1.0</td>\n",
       "      <td>A</td>\n",
       "    </tr>\n",
       "    <tr>\n",
       "      <th>1</th>\n",
       "      <td>3185</td>\n",
       "      <td>690.0</td>\n",
       "      <td>1.0</td>\n",
       "      <td>B</td>\n",
       "    </tr>\n",
       "    <tr>\n",
       "      <th>2</th>\n",
       "      <td>25973</td>\n",
       "      <td>690.0</td>\n",
       "      <td>1.0</td>\n",
       "      <td>B</td>\n",
       "    </tr>\n",
       "    <tr>\n",
       "      <th>3</th>\n",
       "      <td>26280</td>\n",
       "      <td>690.0</td>\n",
       "      <td>1.0</td>\n",
       "      <td>B</td>\n",
       "    </tr>\n",
       "    <tr>\n",
       "      <th>4</th>\n",
       "      <td>100300</td>\n",
       "      <td>990.0</td>\n",
       "      <td>1.0</td>\n",
       "      <td>B</td>\n",
       "    </tr>\n",
       "    <tr>\n",
       "      <th>...</th>\n",
       "      <td>...</td>\n",
       "      <td>...</td>\n",
       "      <td>...</td>\n",
       "      <td>...</td>\n",
       "    </tr>\n",
       "    <tr>\n",
       "      <th>8485</th>\n",
       "      <td>264371</td>\n",
       "      <td>NaN</td>\n",
       "      <td>NaN</td>\n",
       "      <td>B</td>\n",
       "    </tr>\n",
       "    <tr>\n",
       "      <th>8486</th>\n",
       "      <td>1794344</td>\n",
       "      <td>NaN</td>\n",
       "      <td>NaN</td>\n",
       "      <td>B</td>\n",
       "    </tr>\n",
       "    <tr>\n",
       "      <th>8487</th>\n",
       "      <td>296883</td>\n",
       "      <td>NaN</td>\n",
       "      <td>NaN</td>\n",
       "      <td>B</td>\n",
       "    </tr>\n",
       "    <tr>\n",
       "      <th>8488</th>\n",
       "      <td>3598448</td>\n",
       "      <td>NaN</td>\n",
       "      <td>NaN</td>\n",
       "      <td>B</td>\n",
       "    </tr>\n",
       "    <tr>\n",
       "      <th>8489</th>\n",
       "      <td>205705</td>\n",
       "      <td>NaN</td>\n",
       "      <td>NaN</td>\n",
       "      <td>B</td>\n",
       "    </tr>\n",
       "  </tbody>\n",
       "</table>\n",
       "<p>8490 rows × 4 columns</p>\n",
       "</div>"
      ],
      "text/plain": [
       "      student_id  revenue  payed grp\n",
       "0     1627        990.0    1.0    A \n",
       "1     3185        690.0    1.0    B \n",
       "2     25973       690.0    1.0    B \n",
       "3     26280       690.0    1.0    B \n",
       "4     100300      990.0    1.0    B \n",
       "...      ...        ...    ...   .. \n",
       "8485  264371     NaN      NaN     B \n",
       "8486  1794344    NaN      NaN     B \n",
       "8487  296883     NaN      NaN     B \n",
       "8488  3598448    NaN      NaN     B \n",
       "8489  205705     NaN      NaN     B \n",
       "\n",
       "[8490 rows x 4 columns]"
      ]
     },
     "execution_count": 36,
     "metadata": {},
     "output_type": "execute_result"
    }
   ],
   "source": [
    "full_groups"
   ]
  },
  {
   "cell_type": "markdown",
   "metadata": {},
   "source": [
    "Чтобы посчитать статистическую значимость между двумя группами можно было воспользоваться непараметрическим критерием независимых выборок U - test, но поскольку у нас очень много одинаковых оплат в двух группах,то при ранжировании и  при парном сравнение сумм индификаторов двух групп получим некорректный результат. Поэтому для корретного проведения эксперемента  воспользуюсь бутсрапом,и проверим все основные метрики(CR,ARPPU,ARPU), но чтобы не увеличить шанс допустить ошибку второго рода, опираться будем на результаты целевой метрики - конверсии в покупку (**CR**), т.к она лучше покажет изминение в целевое действие пользователя( если оно есть). "
   ]
  },
  {
   "cell_type": "markdown",
   "metadata": {},
   "source": [
    "Хотя требование к распределению не соблюдено, можно провести t test (ARPPU), но для этого важно проверить равенство дисперсий в двух выборках (гомогенность)"
   ]
  },
  {
   "cell_type": "code",
   "execution_count": 37,
   "metadata": {
    "scrolled": true
   },
   "outputs": [
    {
     "data": {
      "text/plain": [
       "LeveneResult(statistic=4.478900854248498, pvalue=0.03477352573759214)"
      ]
     },
     "execution_count": 37,
     "metadata": {},
     "output_type": "execute_result"
    }
   ],
   "source": [
    "stats.levene(full_groups.query(\"grp == 'A' & payed == 1\").revenue, full_groups.query(\"grp == 'B' & payed == 1\").revenue)"
   ]
  },
  {
   "cell_type": "markdown",
   "metadata": {},
   "source": [
    "p-value < 0.05. Дисперсии обоих групп не однородны. Хотя у нас выборки имеют не так много наблюдений и это могло сказаться  на тест, проверять гипотезу будем только бутсрапом."
   ]
  },
  {
   "cell_type": "markdown",
   "metadata": {},
   "source": [
    "**Проверка гипотезы**"
   ]
  },
  {
   "cell_type": "markdown",
   "metadata": {},
   "source": [
    "**H0** - Конверсии в двух группах равны, CR_A==CR_B.    \n",
    "**H1** - Конверсии в двух группах не равны, CR_A!=CR_B."
   ]
  },
  {
   "cell_type": "code",
   "execution_count": 38,
   "metadata": {},
   "outputs": [],
   "source": [
    "def get_bootstrap(\n",
    "    data_column_1, #  1 группа\n",
    "    data_column_2, # 2 группа\n",
    "    boot_it = 1000, # количество бутстрэп-подвыборок\n",
    "    statistic = np.mean, # интересующая нас статистика \n",
    "    bootstrap_conf_level = 0.95 # уровень значимости\n",
    "):\n",
    "    boot_data = []\n",
    "    boot_len  = max([len(data_column_1), len(data_column_2)])\n",
    "    \n",
    "    for i in tqdm(range(boot_it)): # извлекаем подвыборки\n",
    "        samples_1 = data_column_1.sample(\n",
    "            boot_len, \n",
    "            replace = True # параметр возвращения\n",
    "        ).values\n",
    "        \n",
    "        samples_2 = data_column_2.sample(\n",
    "            boot_len, \n",
    "            replace = True\n",
    "        ).values\n",
    "        \n",
    "        boot_data.append(statistic(samples_1)-statistic(samples_2)) # mean() - применяем статистику\n",
    "        \n",
    "    pd_boot_data = pd.DataFrame(boot_data)\n",
    "        \n",
    "    left_quant = (1 - bootstrap_conf_level)/2\n",
    "    right_quant = 1 - (1 - bootstrap_conf_level) / 2\n",
    "    quants = pd_boot_data.quantile([left_quant, right_quant])\n",
    "        \n",
    "    p_1 = norm.cdf(\n",
    "        x = 0, \n",
    "        loc = np.mean(boot_data), \n",
    "        scale = np.std(boot_data)\n",
    "    )\n",
    "    p_2 = norm.cdf(\n",
    "        x = 0, \n",
    "        loc = -np.mean(boot_data), \n",
    "        scale = np.std(boot_data)\n",
    "    )\n",
    "    p_value = min(p_1, p_2) * 2\n",
    "        \n",
    "    # Визуализация\n",
    "    _, _, bars = plt.hist(pd_boot_data[0], bins = 50)\n",
    "    for bar in bars:\n",
    "        if bar.get_x() <= quants.iloc[0][0] or bar.get_x() >= quants.iloc[1][0]:\n",
    "            bar.set_facecolor('red')\n",
    "        else: \n",
    "            bar.set_facecolor('grey')\n",
    "            bar.set_edgecolor('black')\n",
    "    \n",
    "    plt.style.use('ggplot')\n",
    "    plt.vlines(quants,ymin=0,ymax=50,linestyle='--')\n",
    "    plt.xlabel('boot_data')\n",
    "    plt.ylabel('frequency')\n",
    "    plt.title(\"Histogram of boot_data\")\n",
    "    plt.show()\n",
    "       \n",
    "    return {\"boot_data\": boot_data, \n",
    "            \"quants\": quants, \n",
    "            \"p_value\": p_value}"
   ]
  },
  {
   "cell_type": "code",
   "execution_count": 39,
   "metadata": {},
   "outputs": [],
   "source": [
    "# Подкорректируем функции для бутстрапа\n",
    "def cr(x):\n",
    "    'расчет CR'\n",
    "    return (len([i for i in x if i>0]) / len(x))\n",
    "\n",
    "def arpu(x):\n",
    "    'расчет ARPU'\n",
    "    return np.sum(x) / len([i for i in x if i>0]) \n",
    "\n",
    "def arppu(x):\n",
    "    'расчет ARPPU'\n",
    "    return np.mean(x)"
   ]
  },
  {
   "cell_type": "code",
   "execution_count": 40,
   "metadata": {},
   "outputs": [
    {
     "data": {
      "application/vnd.jupyter.widget-view+json": {
       "model_id": "fd345500b77a4839876bb14af28f1698",
       "version_major": 2,
       "version_minor": 0
      },
      "text/plain": [
       "HBox(children=(FloatProgress(value=0.0, max=1000.0), HTML(value='')))"
      ]
     },
     "metadata": {},
     "output_type": "display_data"
    },
    {
     "name": "stdout",
     "output_type": "stream",
     "text": [
      "\n"
     ]
    },
    {
     "data": {
      "image/png": "[encoded data removed]",
      "text/plain": [
       "<Figure size 1152x360 with 1 Axes>"
      ]
     },
     "metadata": {},
     "output_type": "display_data"
    }
   ],
   "source": [
    "booted_data_ARPU = get_bootstrap(full_groups.query('grp ==\"B\"').revenue.fillna(0), full_groups.query('grp ==\"A\"').revenue.fillna(0),statistic=arpu)"
   ]
  },
  {
   "cell_type": "code",
   "execution_count": 41,
   "metadata": {},
   "outputs": [
    {
     "data": {
      "text/plain": [
       "1.9863666392903734e-06"
      ]
     },
     "execution_count": 41,
     "metadata": {},
     "output_type": "execute_result"
    }
   ],
   "source": [
    "booted_data_ARPU[\"p_value\"] # есть значимое различие"
   ]
  },
  {
   "cell_type": "code",
   "execution_count": 42,
   "metadata": {},
   "outputs": [
    {
     "data": {
      "application/vnd.jupyter.widget-view+json": {
       "model_id": "e3a324f6bde747a0b04bed12490fa5dc",
       "version_major": 2,
       "version_minor": 0
      },
      "text/plain": [
       "HBox(children=(FloatProgress(value=0.0, max=1000.0), HTML(value='')))"
      ]
     },
     "metadata": {},
     "output_type": "display_data"
    },
    {
     "name": "stdout",
     "output_type": "stream",
     "text": [
      "\n"
     ]
    },
    {
     "data": {
      "image/png": "[encoded data removed]",
      "text/plain": [
       "<Figure size 1152x360 with 1 Axes>"
      ]
     },
     "metadata": {},
     "output_type": "display_data"
    }
   ],
   "source": [
    "booted_data_ARPPU = get_bootstrap(full_groups.query('grp ==\"B\" & payed == 1').revenue.fillna(0), full_groups.query('grp ==\"A\" & payed == 1').revenue.fillna(0), statistic=arppu)"
   ]
  },
  {
   "cell_type": "code",
   "execution_count": 43,
   "metadata": {},
   "outputs": [
    {
     "data": {
      "text/plain": [
       "5.938357710730867e-06"
      ]
     },
     "execution_count": 43,
     "metadata": {},
     "output_type": "execute_result"
    }
   ],
   "source": [
    "booted_data_ARPPU[\"p_value\"] # есть значимое различие"
   ]
  },
  {
   "cell_type": "code",
   "execution_count": 44,
   "metadata": {},
   "outputs": [
    {
     "data": {
      "application/vnd.jupyter.widget-view+json": {
       "model_id": "342f151304d84a25b745007217e94134",
       "version_major": 2,
       "version_minor": 0
      },
      "text/plain": [
       "HBox(children=(FloatProgress(value=0.0, max=1000.0), HTML(value='')))"
      ]
     },
     "metadata": {},
     "output_type": "display_data"
    },
    {
     "name": "stdout",
     "output_type": "stream",
     "text": [
      "\n"
     ]
    },
    {
     "data": {
      "image/png": "[encoded data removed]",
      "text/plain": [
       "<Figure size 1152x360 with 1 Axes>"
      ]
     },
     "metadata": {},
     "output_type": "display_data"
    }
   ],
   "source": [
    "booted_cr = get_bootstrap(full_groups.query('grp ==\"B\"').revenue.fillna(0), full_groups.query('grp ==\"A\"').revenue.fillna(0), statistic=cr)"
   ]
  },
  {
   "cell_type": "code",
   "execution_count": 45,
   "metadata": {},
   "outputs": [
    {
     "data": {
      "text/plain": [
       "0.1674166797875426"
      ]
     },
     "execution_count": 45,
     "metadata": {},
     "output_type": "execute_result"
    }
   ],
   "source": [
    "booted_cr[\"p_value\"] # отсутствует значимое различие"
   ]
  },
  {
   "cell_type": "markdown",
   "metadata": {},
   "source": [
    "Для категориальных переменных (признаком \"купил/не купил\") можем провести дополнительныый тест на CR, использовав метод Хи-квадрат."
   ]
  },
  {
   "cell_type": "code",
   "execution_count": 46,
   "metadata": {},
   "outputs": [],
   "source": [
    "Metrics = Metrics.reset_index().rename(columns ={ \"index\": \"group\"})"
   ]
  },
  {
   "cell_type": "code",
   "execution_count": 47,
   "metadata": {},
   "outputs": [
    {
     "data": {
      "text/html": [
       "<div>\n",
       "<style scoped>\n",
       "    .dataframe tbody tr th:only-of-type {\n",
       "        vertical-align: middle;\n",
       "    }\n",
       "\n",
       "    .dataframe tbody tr th {\n",
       "        vertical-align: top;\n",
       "    }\n",
       "\n",
       "    .dataframe thead th {\n",
       "        text-align: right;\n",
       "    }\n",
       "</style>\n",
       "<table border=\"1\" class=\"dataframe\">\n",
       "  <thead>\n",
       "    <tr style=\"text-align: right;\">\n",
       "      <th></th>\n",
       "      <th>group</th>\n",
       "      <th>payed_users</th>\n",
       "      <th>active_users</th>\n",
       "      <th>CR</th>\n",
       "      <th>ARPPU</th>\n",
       "      <th>ARPU</th>\n",
       "      <th>Mean_revenue</th>\n",
       "    </tr>\n",
       "  </thead>\n",
       "  <tbody>\n",
       "    <tr>\n",
       "      <th>0</th>\n",
       "      <td>A</td>\n",
       "      <td>107</td>\n",
       "      <td>1567</td>\n",
       "      <td>6.83</td>\n",
       "      <td>860.71</td>\n",
       "      <td>58.77</td>\n",
       "      <td>860.71</td>\n",
       "    </tr>\n",
       "    <tr>\n",
       "      <th>1</th>\n",
       "      <td>B</td>\n",
       "      <td>434</td>\n",
       "      <td>6923</td>\n",
       "      <td>6.27</td>\n",
       "      <td>1108.82</td>\n",
       "      <td>69.51</td>\n",
       "      <td>1108.82</td>\n",
       "    </tr>\n",
       "  </tbody>\n",
       "</table>\n",
       "</div>"
      ],
      "text/plain": [
       "  group  payed_users  active_users    CR    ARPPU   ARPU  Mean_revenue\n",
       "0  A     107          1567          6.83  860.71   58.77  860.71      \n",
       "1  B     434          6923          6.27  1108.82  69.51  1108.82     "
      ]
     },
     "execution_count": 47,
     "metadata": {},
     "output_type": "execute_result"
    }
   ],
   "source": [
    "Metrics"
   ]
  },
  {
   "cell_type": "code",
   "execution_count": 48,
   "metadata": {},
   "outputs": [
    {
     "data": {
      "text/plain": [
       "(0    1567\n",
       " Name: active_users, dtype: int64,\n",
       " 0    107\n",
       " Name: payed_users, dtype: int64)"
      ]
     },
     "execution_count": 48,
     "metadata": {},
     "output_type": "execute_result"
    }
   ],
   "source": [
    "Metrics.query('group == \"A\"').active_users, Metrics.query('group == \"A\"').payed_users"
   ]
  },
  {
   "cell_type": "code",
   "execution_count": 49,
   "metadata": {},
   "outputs": [],
   "source": [
    "# сделаем таблицу сопряженности\n",
    "table = np.array([[Metrics.query('group == \"A\"').active_users, Metrics.query('group == \"A\"').payed_users],\\\n",
    "                [Metrics.query('group == \"B\"').active_users, Metrics.query('group == \"B\"').payed_users]])"
   ]
  },
  {
   "cell_type": "code",
   "execution_count": 50,
   "metadata": {},
   "outputs": [
    {
     "name": "stdout",
     "output_type": "stream",
     "text": [
      "p-value: 0.4778925970224768\n"
     ]
    }
   ],
   "source": [
    "chi2, prob, df, expected = stats.chi2_contingency(table)\n",
    "print(\"p-value: {}\".format(prob)) "
   ]
  },
  {
   "cell_type": "markdown",
   "metadata": {},
   "source": [
    "               Результат: p_value > 0.05 , это дает нам основание не отклонять нулевую гипотезу. \n",
    "               Различия не стат. значимы. Различий между группами нет."
   ]
  },
  {
   "cell_type": "markdown",
   "metadata": {},
   "source": [
    "# Вывод"
   ]
  },
  {
   "cell_type": "markdown",
   "metadata": {},
   "source": [
    "При условии, что система сплитования в эксперименте сработала корректно и мы получили две репрезитативные выборки для анализа,  у нас есть достаточно оснований утвержать, что новая механика никак не повлияла конверсию покупателя в покупку. \n",
    "\n",
    "Также надо отметить один момент. Поскольку анализ проводился на совсем небольших выборках, с не одниковыми размерами и присуствием в данных шума(мое предположение что выбросы не случайны), было бы правильным шагом еще в конце измерить мощность, поскольку в центре эксперимента у нас очень важная биномиальная метрика - конверсия. Если полученая мощность  намного ниже предполагаемого порого (75-80 %), была бы необходимость в продолжении эксперимента и ждать пока получим выборки необходимого размера. Получили почти пороговый результат? Могли отвергнуть альтенативную гипотезу. "
   ]
  },
  {
   "cell_type": "markdown",
   "metadata": {},
   "source": [
    " "
   ]
  },
  {
   "cell_type": "markdown",
   "metadata": {},
   "source": [
    "## Задание 2. SQL"
   ]
  },
  {
   "cell_type": "markdown",
   "metadata": {},
   "source": [
    "### 2.1 Очень усердные ученики."
   ]
  },
  {
   "cell_type": "markdown",
   "metadata": {},
   "source": [
    "**2.1.1 Условие**"
   ]
  },
  {
   "cell_type": "markdown",
   "metadata": {},
   "source": [
    "Образовательные курсы состоят из различных уроков, каждый из которых состоит из нескольких маленьких заданий. \n",
    "Каждое такое маленькое задание называется \"горошиной\"."
   ]
  },
  {
   "cell_type": "markdown",
   "metadata": {},
   "source": [
    "Назовём очень усердным учеником того пользователя, который хотя бы раз за текущий месяц правильно решил 20 горошин."
   ]
  },
  {
   "cell_type": "markdown",
   "metadata": {},
   "source": [
    "**Задача. Необходимо написать оптимальный запрос, который даст информацию о количестве очень усердных студентов.**"
   ]
  },
  {
   "cell_type": "markdown",
   "metadata": {},
   "source": [
    "*Решение.*"
   ]
  },
  {
   "cell_type": "code",
   "execution_count": 51,
   "metadata": {},
   "outputs": [],
   "source": [
    "import pandahouse as ph"
   ]
  },
  {
   "cell_type": "code",
   "execution_count": 52,
   "metadata": {},
   "outputs": [],
   "source": [
    "# для подключения к таблице default в clickhouse:\n",
    "connection_default = {'host': 'http://clickhouse.lab.karpov.courses',\n",
    "                      'database':'default',\n",
    "                      'user':'student', \n",
    "                      'password':'dpo_python_2020'\n",
    "                     }"
   ]
  },
  {
   "cell_type": "code",
   "execution_count": 53,
   "metadata": {},
   "outputs": [],
   "source": [
    " # Оптимальный запрос о количестве учеников\n",
    " # Поскольку данные в таблице предствлены только за один месяц, считаю что если буду оринтироваться по последнему месяцу, то это будет также допустимо.\n",
    "q = '''\n",
    "       Select uniqExact(st_id) as diligent_students \n",
    "    From\n",
    "        (SELECT st_id,\n",
    "                sum(correct) as correct_answers\n",
    "        FROM peas\n",
    "        Where Month(timest) = (select max(month(timest)) from peas) \n",
    "        Group by st_id\n",
    "        having  correct_answers >= 20) t1\n",
    "    '''\n",
    "\n",
    "# отправляем запрос и записываем результат в пандасовский датафрейм\n",
    "diligent_students = ph.read_clickhouse(query=q, connection=connection_default)"
   ]
  },
  {
   "cell_type": "code",
   "execution_count": 54,
   "metadata": {},
   "outputs": [
    {
     "name": "stdout",
     "output_type": "stream",
     "text": [
      "Всего 136 усердных учеников за текущий месяц\n"
     ]
    }
   ],
   "source": [
    "print(f\"Всего {diligent_students.diligent_students.iat[0]} усердных учеников за текущий месяц\")"
   ]
  },
  {
   "cell_type": "markdown",
   "metadata": {},
   "source": [
    "**2.2.1 Условие**"
   ]
  },
  {
   "cell_type": "markdown",
   "metadata": {},
   "source": [
    "Образовательная платформа предлагает пройти студентам курсы по модели trial: студент может решить бесплатно лишь 30 горошин в день.  \n",
    "Для неограниченного количества заданий в определенной дисциплине студенту необходимо приобрести полный доступ.     \n",
    "          Команда провела эксперимент, где был протестирован новый экран оплаты."
   ]
  },
  {
   "cell_type": "markdown",
   "metadata": {},
   "source": [
    "**Задача. Необходимо в одном запросе выгрузить следующую информацию о группах пользователей:**\n",
    "\n",
    "ARPU \n",
    "ARPAU \n",
    "CR в покупку \n",
    "СR активного пользователя в покупку \n",
    "CR пользователя из активности по математике (subject = ’math’) в покупку курса по математике\n",
    "ARPU считается относительно всех пользователей, попавших в группы."
   ]
  },
  {
   "cell_type": "markdown",
   "metadata": {},
   "source": [
    "*Решение.*"
   ]
  },
  {
   "cell_type": "markdown",
   "metadata": {},
   "source": [
    "***Предворительно определим метрики***\n",
    "\n",
    "Активным считается пользователь, за все время решивший больше 10 задач правильно в любых дисциплинах.\n",
    "\n",
    "Активным по математике считается пользователь, за все время решивший 2 или больше задач правильно по математике."
   ]
  },
  {
   "cell_type": "code",
   "execution_count": 55,
   "metadata": {
    "scrolled": true
   },
   "outputs": [
    {
     "data": {
      "text/html": [
       "<div>\n",
       "<style scoped>\n",
       "    .dataframe tbody tr th:only-of-type {\n",
       "        vertical-align: middle;\n",
       "    }\n",
       "\n",
       "    .dataframe tbody tr th {\n",
       "        vertical-align: top;\n",
       "    }\n",
       "\n",
       "    .dataframe thead th {\n",
       "        text-align: right;\n",
       "    }\n",
       "</style>\n",
       "<table border=\"1\" class=\"dataframe\">\n",
       "  <thead>\n",
       "    <tr style=\"text-align: right;\">\n",
       "      <th></th>\n",
       "      <th>test_grp</th>\n",
       "      <th>ARPU</th>\n",
       "      <th>ARPAU</th>\n",
       "      <th>CR</th>\n",
       "      <th>CR_active</th>\n",
       "      <th>CR_active_math</th>\n",
       "    </tr>\n",
       "  </thead>\n",
       "  <tbody>\n",
       "    <tr>\n",
       "      <th>0</th>\n",
       "      <td>control</td>\n",
       "      <td>4540.98</td>\n",
       "      <td>10393.70</td>\n",
       "      <td>4.92</td>\n",
       "      <td>11.02</td>\n",
       "      <td>6.12</td>\n",
       "    </tr>\n",
       "    <tr>\n",
       "      <th>1</th>\n",
       "      <td>pilot</td>\n",
       "      <td>11508.47</td>\n",
       "      <td>29739.58</td>\n",
       "      <td>10.85</td>\n",
       "      <td>26.04</td>\n",
       "      <td>9.52</td>\n",
       "    </tr>\n",
       "  </tbody>\n",
       "</table>\n",
       "</div>"
      ],
      "text/plain": [
       "  test_grp      ARPU     ARPAU     CR  CR_active  CR_active_math\n",
       "0  control  4540.98   10393.70  4.92   11.02      6.12          \n",
       "1  pilot    11508.47  29739.58  10.85  26.04      9.52          "
      ]
     },
     "execution_count": 55,
     "metadata": {},
     "output_type": "execute_result"
    }
   ],
   "source": [
    "q = '''\n",
    "with \n",
    "    ARPU as (select a.test_grp, sum(money) / uniqExact(a.st_id) as ARPU from studs a\n",
    "                  left join default.final_project_check b\n",
    "                  using (st_id)\n",
    "                  GROUP BY a.test_grp),\n",
    "    ARPAU as (select a.test_grp, sum(money) / uniqExact(a.st_id) as ARPAU from studs a\n",
    "              left join default.final_project_check b\n",
    "              using (st_id)\n",
    "              Where st_id in ( Select st_id from peas\n",
    "                               Where correct = 1\n",
    "                               Group by st_id\n",
    "                               having count(correct) > 10)\n",
    "             Group by test_grp),\n",
    "    CR AS (select test_grp, count(distinct(b.st_id)) filter (where money != 0)  / count(distinct(st_id)) * 100 as CR from studs a\n",
    "           left join final_project_check b\n",
    "           using (st_id)\n",
    "           GROUP BY test_grp),\n",
    "    CR_active AS (select test_grp, count(distinct(b.st_id)) filter (where money != 0)  / count(distinct(st_id)) * 100 as CR_active from studs a\n",
    "                  left join final_project_check b\n",
    "                  using (st_id)\n",
    "                  Where st_id in ( Select st_id from peas\n",
    "                                   Where correct = 1\n",
    "                                   Group by st_id\n",
    "                                   having sum(correct) > 10)\n",
    "                  Group by test_grp),\n",
    "    CR_active_math as (select test_grp, count(distinct(b.st_id)) filter (where subject = 'Math')  / count(distinct(st_id)) * 100 as CR_active_math from studs a\n",
    "                       left join final_project_check b\n",
    "                       using (st_id)\n",
    "                       Where st_id in ( Select st_id from peas\n",
    "                                        Where subject = 'Math' and correct = 1\n",
    "                                        Group by st_id\n",
    "                                        having count(correct) >= 2)\n",
    "                        Group by test_grp)\n",
    "\n",
    "Select ARPU.test_grp as test_grp, round(ARPU.ARPU,2) as ARPU, round(ARPAU.ARPAU,2) as ARPAU, round(CR.CR,2) as CR, round(CR_active.CR_active,2) as CR_active, round(CR_active_math.CR_active_math, 2) as CR_active_math From  ARPU\n",
    "join ARPAU on ARPU.test_grp = ARPAU.test_grp\n",
    "join CR on ARPU.test_grp = CR.test_grp\n",
    "join CR_active on ARPU.test_grp = CR_active.test_grp\n",
    "join CR_active_math on ARPU.test_grp = CR_active_math.test_grp\n",
    "    '''\n",
    "\n",
    "# отправляем запрос и записываем результат в пандасовский датафрейм\n",
    "metrics = ph.read_clickhouse(query=q, connection=connection_default)\n",
    "metrics"
   ]
  },
  {
   "cell_type": "markdown",
   "metadata": {},
   "source": [
    "**Вывод**"
   ]
  },
  {
   "cell_type": "markdown",
   "metadata": {},
   "source": [
    "На основе данных можно сделать вывод, что новый экран оплаты повысит все ключевые метрики платформы практически в два раза."
   ]
  },
  {
   "cell_type": "markdown",
   "metadata": {},
   "source": [
    "# Задание 3. Python"
   ]
  },
  {
   "cell_type": "markdown",
   "metadata": {},
   "source": [
    "**3.1.1 Условие**"
   ]
  },
  {
   "cell_type": "markdown",
   "metadata": {},
   "source": [
    "Реализовать функцию, которая будет автоматически подгружать информацию из дополнительного файла groups_add.csv (заголовки могут отличаться) и на основании дополнительных параметров пересчитывать метрики."
   ]
  },
  {
   "cell_type": "code",
   "execution_count": 56,
   "metadata": {},
   "outputs": [],
   "source": [
    "def make_metrics():\n",
    "    groups = pd.read_csv(\"Проект_2_groups.csv\",sep= \";\")\n",
    "    group_add = pd.read_csv(\"Проект_2_group_add.csv\",sep= \",\")\n",
    "    active_studs = pd.read_csv(\"Проект_2_active_studs.csv\",sep= \";\")\n",
    "    checks = pd.read_csv(\"Проект_2_checks.csv\",sep= \";\")\n",
    "    group_add.drop_duplicates()\n",
    "    groups.rename(columns={ groups.columns[0]: \"student_id\"}, inplace = True) \n",
    "    group_add.rename(columns={ group_add.columns[0]: \"student_id\"}, inplace = True)\n",
    "    checks.rename(columns={ checks.columns[1]: \"revenue\"}, inplace = True) \n",
    "    full_groups = groups.append(group_add)\n",
    "    checks[\"payed\"] = 1\n",
    "    active_studs2 = checks.merge(active_studs, on = \"student_id\",how = \"outer\") \n",
    "    full_groups = active_studs2.merge(full_groups, on = \"student_id\",how = \"left\")\n",
    "    Metrics = pd.DataFrame()\n",
    "    Metrics[\"payed_users\"] = full_groups.query(\"payed == 1\").groupby(\"grp\")\\\n",
    "                    .student_id.count()\n",
    "    Metrics[\"active_users\"] = full_groups.groupby(\"grp\")\\\n",
    "                    .student_id.count()\n",
    "    Metrics[\"CR\"] = round(Metrics[\"payed_users\"] / Metrics[\"active_users\"] * 100,2)\n",
    "    Metrics[\"ARPPU\"] = round(full_groups.query(\"payed == 1\").groupby(\"grp\")\\\n",
    "                    .revenue.mean(),2)\n",
    "    Metrics[\"ARPU\"] = round(full_groups.groupby(\"grp\")\\\n",
    "                    .revenue.sum() / Metrics[\"active_users\"],2)\n",
    "    Metrics[\"Mean_revenue\"] = round(full_groups.query(\"payed == 1\").groupby(\"grp\").revenue.mean(),2)\n",
    "    return Metrics"
   ]
  },
  {
   "cell_type": "code",
   "execution_count": 57,
   "metadata": {},
   "outputs": [
    {
     "data": {
      "text/html": [
       "<div>\n",
       "<style scoped>\n",
       "    .dataframe tbody tr th:only-of-type {\n",
       "        vertical-align: middle;\n",
       "    }\n",
       "\n",
       "    .dataframe tbody tr th {\n",
       "        vertical-align: top;\n",
       "    }\n",
       "\n",
       "    .dataframe thead th {\n",
       "        text-align: right;\n",
       "    }\n",
       "</style>\n",
       "<table border=\"1\" class=\"dataframe\">\n",
       "  <thead>\n",
       "    <tr style=\"text-align: right;\">\n",
       "      <th></th>\n",
       "      <th>payed_users</th>\n",
       "      <th>active_users</th>\n",
       "      <th>CR</th>\n",
       "      <th>ARPPU</th>\n",
       "      <th>ARPU</th>\n",
       "      <th>Mean_revenue</th>\n",
       "    </tr>\n",
       "  </thead>\n",
       "  <tbody>\n",
       "    <tr>\n",
       "      <th>A</th>\n",
       "      <td>107</td>\n",
       "      <td>1567</td>\n",
       "      <td>6.83</td>\n",
       "      <td>860.71</td>\n",
       "      <td>58.77</td>\n",
       "      <td>860.71</td>\n",
       "    </tr>\n",
       "    <tr>\n",
       "      <th>B</th>\n",
       "      <td>434</td>\n",
       "      <td>6923</td>\n",
       "      <td>6.27</td>\n",
       "      <td>1108.82</td>\n",
       "      <td>69.51</td>\n",
       "      <td>1108.82</td>\n",
       "    </tr>\n",
       "  </tbody>\n",
       "</table>\n",
       "</div>"
      ],
      "text/plain": [
       "   payed_users  active_users    CR    ARPPU   ARPU  Mean_revenue\n",
       "A  107          1567          6.83  860.71   58.77  860.71      \n",
       "B  434          6923          6.27  1108.82  69.51  1108.82     "
      ]
     },
     "execution_count": 57,
     "metadata": {},
     "output_type": "execute_result"
    }
   ],
   "source": [
    "Metrics = make_metrics()\n",
    "Metrics"
   ]
  },
  {
   "cell_type": "markdown",
   "metadata": {},
   "source": [
    "**3.1.2 Условие**"
   ]
  },
  {
   "cell_type": "markdown",
   "metadata": {},
   "source": [
    "Реализовать функцию, которая будет строить графики по получаемым метрикам."
   ]
  },
  {
   "cell_type": "code",
   "execution_count": 58,
   "metadata": {},
   "outputs": [],
   "source": [
    "def visualization_metrics(Metrics):\n",
    "    Metrics = Metrics.reset_index().rename(columns={\"index\": \"Group\"})\n",
    "    fig, axs = plt.subplots(2, 3, figsize=(20, 10), sharey=False)\n",
    "    fig.tight_layout(h_pad=4)\n",
    "    sns.barplot(y='payed_users', x=\"Group\", data=Metrics, ax=axs[0, 0]).set_title('payed_users')\n",
    "    sns.barplot(y='active_users', x=\"Group\", data=Metrics, ax=axs[0, 1]).set_title('active_users')\n",
    "    sns.barplot(y='CR', x=\"Group\", data=Metrics, ax=axs[0, 2]).set_title('Conversion')\n",
    "    sns.barplot(y='ARPPU', x=\"Group\", data=Metrics, ax=axs[1,0]).set_title('ARPPU')\n",
    "    sns.barplot(y='ARPU', x=\"Group\", data=Metrics, ax=axs[1,1]).set_title('ARPU')\n",
    "    sns.barplot(y='Mean_revenue', x=\"Group\", data=Metrics, ax=axs[1,2]).set_title('Mean_revenue')\n",
    "    plt.show() "
   ]
  },
  {
   "cell_type": "code",
   "execution_count": 59,
   "metadata": {},
   "outputs": [
    {
     "data": {
      "image/png": "[encoded data removed]",
      "text/plain": [
       "<Figure size 1440x720 with 6 Axes>"
      ]
     },
     "metadata": {},
     "output_type": "display_data"
    }
   ],
   "source": [
    "visualization_metrics(Metrics)"
   ]
  }
 ],
 "metadata": {
  "kernelspec": {
   "display_name": "Python 3",
   "language": "python",
   "name": "python3"
  },
  "language_info": {
   "codemirror_mode": {
    "name": "ipython",
    "version": 3
   },
   "file_extension": ".py",
   "mimetype": "text/x-python",
   "name": "python",
   "nbconvert_exporter": "python",
   "pygments_lexer": "ipython3",
   "version": "3.7.3"
  }
 },
 "nbformat": 4,
 "nbformat_minor": 4
}
